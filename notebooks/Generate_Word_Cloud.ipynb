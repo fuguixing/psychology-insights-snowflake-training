{
 "cells": [
  {
   "cell_type": "markdown",
   "id": "6d462b49",
   "metadata": {},
   "source": [
    "## Generate Word Cloud"
   ]
  },
  {
   "cell_type": "code",
   "execution_count": 2,
   "id": "12fff25b",
   "metadata": {},
   "outputs": [],
   "source": [
    "import json\n",
    "import re\n",
    "\n",
    "from snowflake.snowpark import functions as fn\n",
    "from snowflake.snowpark.functions import udf, col\n",
    "from snowflake.snowpark.session import Session\n",
    "\n",
    "# Create Snowflake session\n",
    "session = Session.builder.configs(json.load(open(\"./creds.json\"))).create()\n",
    "session.clear_imports()\n",
    "session.clear_packages()\n",
    "session.add_packages(\"snowflake-snowpark-python\")\n",
    "session.add_packages(\"scikit-learn\", \"pandas\", \"numpy\")"
   ]
  },
  {
   "cell_type": "markdown",
   "id": "9ffa5ed7",
   "metadata": {},
   "source": [
    "### Define UDF for extracting words"
   ]
  },
  {
   "cell_type": "code",
   "execution_count": 3,
   "id": "25e450cb",
   "metadata": {},
   "outputs": [],
   "source": [
    "@udf(name='extract_words', is_permanent=False, stage_location='@models', replace=True)\n",
    "def extract_words_udf(reviews: list) -> list:\n",
    "    words = []\n",
    "    for review in reviews:\n",
    "        review_words = review.split()\n",
    "        words.extend(review_words)\n",
    "    return words"
   ]
  },
  {
   "cell_type": "markdown",
   "id": "928a5a0b",
   "metadata": {},
   "source": [
    "### Create Snowflake view VIEW_SENTIMENT_FLAG"
   ]
  },
  {
   "cell_type": "code",
   "execution_count": 4,
   "id": "55a59f4c",
   "metadata": {},
   "outputs": [],
   "source": [
    "view_sentiment_flag = session.sql(\"CREATE OR REPLACE VIEW PUBLIC.VIEW_SENTIMENT_FLAG AS \\\n",
    "            SELECT \\\n",
    "                REVIEW, \\\n",
    "                SENTIMENT, \\\n",
    "                CASE \\\n",
    "                    WHEN (SENTIMENT = 'positive') THEN 1 :: bigint \\\n",
    "                    ELSE 2 :: bigint \\\n",
    "                END AS SENTIMENT_FLAG \\\n",
    "            FROM \\\n",
    "                TRAIN_DATASET\").collect()"
   ]
  },
  {
   "cell_type": "markdown",
   "id": "0eecb5a3",
   "metadata": {},
   "source": [
    "### Get dataset from the view and extract words using UDF"
   ]
  },
  {
   "cell_type": "code",
   "execution_count": 1,
   "id": "e99b5def",
   "metadata": {},
   "outputs": [],
   "source": [
    "words_dataset = session.sql('select REVIEW, SENTIMENT, SENTIMENT_FLAG, \\\n",
    "            extract_words(ARRAY_CONSTRUCT(REVIEW)) as extracted_words \\\n",
    "                                    from VIEW_SENTIMENT_FLAG')\n",
    "\n",
    "words_dataset.show()"
   ]
  },
  {
   "cell_type": "markdown",
   "id": "46e84d29",
   "metadata": {},
   "source": [
    "### Define UDF for cleaning words"
   ]
  },
  {
   "cell_type": "code",
   "execution_count": 2,
   "id": "b055b26c",
   "metadata": {},
   "outputs": [],
   "source": [
    "@udf(name='clean_words', is_permanent=False, stage_location='@models', replace=True)\n",
    "def clean_words(words: list) -> list:\n",
    "    from sklearn.feature_extraction.text import ENGLISH_STOP_WORDS\n",
    "    import string\n",
    "    punctuation = set(string.punctuation)\n",
    "    cleaned_words = []\n",
    "    for word in words:\n",
    "        if re.match(r'^[a-zA-Z]+$', word) and \\\n",
    "                word.lower() not in ENGLISH_STOP_WORDS and word.lower() not in punctuation:\n",
    "            cleaned_words.append(word)\n",
    "    return words"
   ]
  },
  {
   "cell_type": "markdown",
   "id": "36d06e75",
   "metadata": {},
   "source": [
    "### Clean the words in the dataset using the UDF"
   ]
  },
  {
   "cell_type": "code",
   "execution_count": 3,
   "id": "0ab0fe75",
   "metadata": {},
   "outputs": [],
   "source": [
    "cleaned_dataset = words_dataset.select(words_dataset.REVIEW, words_dataset.SENTIMENT, \\\n",
    "                                       words_dataset.SENTIMENT_FLAG, words_dataset.extracted_words,\\\n",
    "              fn.call_udf(\"clean_words\", col(\"extracted_words\")).alias('cleaned_words'))\n",
    "cleaned_dataset.show()"
   ]
  },
  {
   "cell_type": "markdown",
   "id": "2f172d6d",
   "metadata": {},
   "source": [
    "### Calculate word frequencies for positive sentiment"
   ]
  },
  {
   "cell_type": "code",
   "execution_count": 4,
   "id": "fcfdba3f",
   "metadata": {},
   "outputs": [],
   "source": [
    "positive_words_df = cleaned_dataset.filter(cleaned_dataset.SENTIMENT_FLAG == 1) \\\n",
    "    .select(fn.explode(cleaned_dataset.CLEANED_WORDS).alias(\"Word\")) \\\n",
    "    .groupBy(\"Word\") \\\n",
    "    .count() \\\n",
    "    .orderBy(fn.desc(\"count\")) \\\n",
    "    .limit(100) \\\n",
    "    .select(\"Word\", \"count\") \\\n",
    "    .write.mode('overwrite').saveAsTable('POSITIVE_WORDS_CLOUD')"
   ]
  },
  {
   "cell_type": "markdown",
   "id": "854b09b7",
   "metadata": {},
   "source": [
    "### Calculate word frequencies for negative sentiment"
   ]
  },
  {
   "cell_type": "code",
   "execution_count": 5,
   "id": "b32fedae",
   "metadata": {},
   "outputs": [],
   "source": [
    "negative_words_df = cleaned_dataset.filter(cleaned_dataset.SENTIMENT_FLAG == 2) \\\n",
    "    .select(fn.explode(cleaned_dataset.CLEANED_WORDS).alias(\"Word\")) \\\n",
    "    .groupBy(\"Word\") \\\n",
    "    .count() \\\n",
    "    .orderBy(fn.desc(\"count\")) \\\n",
    "    .limit(100) \\\n",
    "    .select(\"Word\", \"count\") \\\n",
    "    .write.mode('overwrite').saveAsTable('NEGATIVE_WORDS_CLOUD')"
   ]
  },
  {
   "cell_type": "markdown",
   "id": "44edbb18",
   "metadata": {},
   "source": [
    "### Show the word frequency table for positive sentiment"
   ]
  },
  {
   "cell_type": "code",
   "execution_count": 6,
   "id": "18aa64ad",
   "metadata": {},
   "outputs": [],
   "source": [
    "session.sql(\"SELECT * FROM POSITIVE_WORDS_CLOUD\").show()"
   ]
  },
  {
   "cell_type": "code",
   "execution_count": 7,
   "id": "fdf7b6d1",
   "metadata": {},
   "outputs": [],
   "source": [
    "session.sql(\"SELECT * FROM NEGATIVE_WORDS_CLOUD\").show()"
   ]
  },
  {
   "cell_type": "markdown",
   "id": "024344d5",
   "metadata": {},
   "source": [
    "### Close the Snowflake session"
   ]
  },
  {
   "cell_type": "code",
   "execution_count": 8,
   "id": "d0aedd33",
   "metadata": {},
   "outputs": [],
   "source": [
    "session.close()"
   ]
  },
  {
   "cell_type": "code",
   "execution_count": null,
   "id": "6f94f4fa",
   "metadata": {},
   "outputs": [],
   "source": []
  }
 ],
 "metadata": {
  "kernelspec": {
   "display_name": "Python 3 (ipykernel)",
   "language": "python",
   "name": "python3"
  },
  "language_info": {
   "codemirror_mode": {
    "name": "ipython",
    "version": 3
   },
   "file_extension": ".py",
   "mimetype": "text/x-python",
   "name": "python",
   "nbconvert_exporter": "python",
   "pygments_lexer": "ipython3",
   "version": "3.8.10"
  }
 },
 "nbformat": 4,
 "nbformat_minor": 5
}
