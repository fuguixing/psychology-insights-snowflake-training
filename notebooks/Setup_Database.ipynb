{
 "cells": [
  {
   "cell_type": "markdown",
   "id": "12b09baa",
   "metadata": {},
   "source": [
    "# Setup database"
   ]
  },
  {
   "cell_type": "code",
   "execution_count": 1,
   "id": "f92cbd47",
   "metadata": {},
   "outputs": [],
   "source": [
    "import json\n",
    "import zipfile\n",
    "import pandas as pd\n",
    "from snowflake.snowpark.session import Session\n",
    "import sqlparse"
   ]
  },
  {
   "cell_type": "code",
   "execution_count": 2,
   "id": "8713f7b1",
   "metadata": {},
   "outputs": [],
   "source": [
    "# Create a Snowflake session\n",
    "session = Session.builder.configs(json.load(open(\"./creds.json\"))).create()"
   ]
  },
  {
   "cell_type": "markdown",
   "id": "e0638059",
   "metadata": {},
   "source": [
    "## Execute SQL Script to Initialize Database"
   ]
  },
  {
   "cell_type": "code",
   "execution_count": 7,
   "id": "bf7c90e2",
   "metadata": {},
   "outputs": [],
   "source": [
    "with open(\"../sql/init_database.sql\", \"r\") as f:\n",
    "    init_sql = f.read()\n",
    "\n",
    "# Split the SQL script into individual statements\n",
    "statements = sqlparse.split(init_sql)\n",
    "\n",
    "# Execute each statement\n",
    "for statement in statements:\n",
    "    if statement and statement.strip() != \"\":\n",
    "        try:\n",
    "            session.sql(statement.strip()).collect()\n",
    "            print(\"Statement executed successfully\")\n",
    "        except Exception as e:\n",
    "            print(f\"Error executing statement: {str(e)}\")"
   ]
  },
  {
   "cell_type": "markdown",
   "source": [
    "## Load train dataset"
   ],
   "metadata": {
    "collapsed": false
   }
  },
  {
   "cell_type": "code",
   "execution_count": 8,
   "id": "58ad9eee",
   "metadata": {},
   "outputs": [],
   "source": [
    "# open zipped dataset\n",
    "with zipfile.ZipFile(\"../data/TRAIN_DATASET.zip\") as z:\n",
    "  # open the csv file in the dataset\n",
    "  with z.open(\"TRAIN_DATASET.csv\") as f:\n",
    "    # read the dataset\n",
    "    pandas_df = pd.read_csv(f)\n",
    "    session.write_pandas(pandas_df, \"TRAIN_DATASET\", auto_create_table=False, overwrite=True)\n"
   ]
  },
  {
   "cell_type": "markdown",
   "source": [
    "## Load test dataset"
   ],
   "metadata": {
    "collapsed": false
   }
  },
  {
   "cell_type": "code",
   "execution_count": 9,
   "id": "34d24a78",
   "metadata": {},
   "outputs": [],
   "source": [
    "with zipfile.ZipFile(\"../data/TEST_DATASET.zip\") as z:\n",
    "  # open the csv file in the dataset\n",
    "  with z.open(\"TEST_DATASET.csv\") as f:\n",
    "    # read the dataset\n",
    "    pandas_df = pd.read_csv(f)\n",
    "    session.write_pandas(pandas_df, \"TEST_DATASET\", auto_create_table=False, overwrite=True)\n"
   ]
  },
  {
   "cell_type": "code",
   "execution_count": 10,
   "id": "fa805b64",
   "metadata": {},
   "outputs": [],
   "source": [
    "session.close()"
   ]
  }
 ],
 "metadata": {
  "kernelspec": {
   "display_name": "Python 3 (ipykernel)",
   "language": "python",
   "name": "python3"
  },
  "language_info": {
   "codemirror_mode": {
    "name": "ipython",
    "version": 3
   },
   "file_extension": ".py",
   "mimetype": "text/x-python",
   "name": "python",
   "nbconvert_exporter": "python",
   "pygments_lexer": "ipython3",
   "version": "3.8.10"
  }
 },
 "nbformat": 4,
 "nbformat_minor": 5
}
